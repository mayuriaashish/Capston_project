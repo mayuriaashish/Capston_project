{
 "cells": [
  {
   "cell_type": "code",
   "execution_count": 1,
   "id": "fd50f86f",
   "metadata": {},
   "outputs": [],
   "source": [
    "import pandas as pd\n",
    "import sqlite3"
   ]
  },
  {
   "cell_type": "code",
   "execution_count": 2,
   "id": "61e74ce9",
   "metadata": {},
   "outputs": [],
   "source": [
    "csv_file_path = 'C:\\\\Users\\\\Mohit Lahoti\\\\Downloads\\\\Compressed\\\\movie_name.csv'\n",
    "data = pd.read_csv(csv_file_path)"
   ]
  },
  {
   "cell_type": "code",
   "execution_count": 3,
   "id": "20ae749a",
   "metadata": {},
   "outputs": [
    {
     "name": "stdout",
     "output_type": "stream",
     "text": [
      "SQLite Database Path: C:\\Users\\Mohit Lahoti\\my_database.db\n"
     ]
    }
   ],
   "source": [
    "import os\n",
    "\n",
    "# Get the current working directory\n",
    "current_directory = os.getcwd()\n",
    "\n",
    "# Specify the SQLite database file name\n",
    "sqlite_db_filename = 'my_database.db'\n",
    "\n",
    "# Construct the full path to the SQLite database\n",
    "sqlite_db_path = os.path.join(current_directory, sqlite_db_filename)\n",
    "\n",
    "print(\"SQLite Database Path:\", sqlite_db_path)\n"
   ]
  },
  {
   "cell_type": "code",
   "execution_count": 4,
   "id": "27861250",
   "metadata": {},
   "outputs": [],
   "source": [
    "sqlite_db_path = 'path_to_your_sqlite_database.db'\n",
    "conn = sqlite3.connect(sqlite_db_path)"
   ]
  },
  {
   "cell_type": "code",
   "execution_count": 5,
   "id": "4ceee2e3",
   "metadata": {},
   "outputs": [
    {
     "data": {
      "text/plain": [
       "1750"
      ]
     },
     "execution_count": 5,
     "metadata": {},
     "output_type": "execute_result"
    }
   ],
   "source": [
    "table_name = 'Movie_Data_1'\n",
    "data.to_sql(table_name, conn, index=False, if_exists='replace')"
   ]
  },
  {
   "cell_type": "code",
   "execution_count": 6,
   "id": "b815ba77",
   "metadata": {},
   "outputs": [
    {
     "name": "stdout",
     "output_type": "stream",
     "text": [
      "        SNO                                         Movie Name  \\\n",
      "0         1                                    The Dark Knight   \n",
      "1         2      The Lord of the Rings: The Return of the King   \n",
      "2         3                Spider-Man: Across the Spider-Verse   \n",
      "3         4                                          Inception   \n",
      "4         5  The Lord of the Rings: The Fellowship of the Ring   \n",
      "...     ...                                                ...   \n",
      "1745  1,746                                               Krym   \n",
      "1746  1,747                                          Barb Wire   \n",
      "1747  1,748              Spy Kids 4: All the Time in the World   \n",
      "1748  1,749                                              D-War   \n",
      "1749  1,750                                           Catwoman   \n",
      "\n",
      "          Director Name1 Director Name2       Director Name3 Duration  \\\n",
      "0      Christopher Nolan           None                 None  152 min   \n",
      "1          Peter Jackson           None                 None  201 min   \n",
      "2     Joaquim Dos Santos    Kemp Powers   Justin K. Thompson  140 min   \n",
      "3      Christopher Nolan           None                 None  148 min   \n",
      "4          Peter Jackson           None                 None  178 min   \n",
      "...                  ...            ...                  ...      ...   \n",
      "1745     Aleksey Pimanov           None                 None   99 min   \n",
      "1746         David Hogan           None                 None   98 min   \n",
      "1747    Robert Rodriguez           None                 None   89 min   \n",
      "1748      Hyung-rae Shim           None                 None  107 min   \n",
      "1749               Pitof           None                 None  104 min   \n",
      "\n",
      "          Year  Rating  Metascore  \n",
      "0         2008     9.0       84.0  \n",
      "1         2003     9.0       94.0  \n",
      "2         2023     8.9       86.0  \n",
      "3         2010     8.8       74.0  \n",
      "4         2001     8.8       92.0  \n",
      "...        ...     ...        ...  \n",
      "1745  I) (2017     3.6        NaN  \n",
      "1746      1996     3.5       40.0  \n",
      "1747      2011     3.5       37.0  \n",
      "1748      2007     3.5       33.0  \n",
      "1749      2004     3.4       27.0  \n",
      "\n",
      "[1750 rows x 9 columns]\n"
     ]
    }
   ],
   "source": [
    "\n",
    "table_name = 'Movie_Data_1'\n",
    "query = f\"SELECT * FROM {table_name};\"\n",
    "data = pd.read_sql(query, conn)\n",
    "\n",
    "print(data)\n"
   ]
  },
  {
   "cell_type": "code",
   "execution_count": 7,
   "id": "841e12fe",
   "metadata": {},
   "outputs": [],
   "source": [
    "# Retrieve data into a DataFrame\n",
    "data = pd.read_sql(query, conn)"
   ]
  },
  {
   "cell_type": "code",
   "execution_count": 8,
   "id": "044548f3",
   "metadata": {},
   "outputs": [
    {
     "name": "stdout",
     "output_type": "stream",
     "text": [
      "Index(['SNO', 'Movie Name', 'Director Name1', 'Director Name2',\n",
      "       'Director Name3', 'Duration', 'Year', 'Rating', 'Metascore'],\n",
      "      dtype='object')\n"
     ]
    }
   ],
   "source": [
    "print(data.columns)"
   ]
  },
  {
   "cell_type": "code",
   "execution_count": 9,
   "id": "fa29bbd8",
   "metadata": {},
   "outputs": [],
   "source": [
    "# SQL query 1\n",
    "query = \"\"\"\n",
    "SELECT *\n",
    "FROM {table}\n",
    "WHERE 'Christopher' IN (\"Director Name1\", \"Director Name2\", \"Director Name3\")\n",
    "   OR 'Matt Reeves' IN (\"Director Name1\", \"Director Name2\", \"Director Name3\");\n",
    "\"\"\".format(table=table_name)"
   ]
  },
  {
   "cell_type": "code",
   "execution_count": 10,
   "id": "d28a9308",
   "metadata": {},
   "outputs": [],
   "source": [
    "# Retrieve data into a DataFrame\n",
    "data = pd.read_sql(query, conn)"
   ]
  },
  {
   "cell_type": "code",
   "execution_count": 11,
   "id": "2509a5a0",
   "metadata": {},
   "outputs": [
    {
     "name": "stdout",
     "output_type": "stream",
     "text": [
      "   SNO                      Movie Name Director Name1 Director Name2  \\\n",
      "0  131                      The Batman    Matt Reeves           None   \n",
      "1  228  Dawn of the Planet of the Apes    Matt Reeves           None   \n",
      "2  311  War for the Planet of the Apes    Matt Reeves           None   \n",
      "3  519                     Cloverfield    Matt Reeves           None   \n",
      "\n",
      "  Director Name3 Duration  Year  Rating  Metascore  \n",
      "0           None  176 min  2022     7.8       72.0  \n",
      "1           None  130 min  2014     7.6       79.0  \n",
      "2           None  140 min  2017     7.4       82.0  \n",
      "3           None   85 min  2008     7.0       64.0  \n"
     ]
    }
   ],
   "source": [
    "# Display the data\n",
    "print(data)"
   ]
  },
  {
   "cell_type": "code",
   "execution_count": 12,
   "id": "101fe33d",
   "metadata": {},
   "outputs": [],
   "source": [
    "# SQL query 2\n",
    "query = \"\"\"\n",
    "SELECT *\n",
    "FROM {table}\n",
    "WHERE Duration BETWEEN 140 AND 190;\n",
    "\"\"\".format(table=table_name)"
   ]
  },
  {
   "cell_type": "code",
   "execution_count": 13,
   "id": "57cbefb4",
   "metadata": {},
   "outputs": [],
   "source": [
    "# Retrieve data into a DataFrame\n",
    "data = pd.read_sql(query, conn)"
   ]
  },
  {
   "cell_type": "code",
   "execution_count": 14,
   "id": "d40f8601",
   "metadata": {},
   "outputs": [
    {
     "name": "stdout",
     "output_type": "stream",
     "text": [
      "       SNO                                         Movie Name  \\\n",
      "0        1                                    The Dark Knight   \n",
      "1        3                Spider-Man: Across the Spider-Verse   \n",
      "2        4                                          Inception   \n",
      "3        5  The Lord of the Rings: The Fellowship of the Ring   \n",
      "4        6              The Lord of the Rings: The Two Towers   \n",
      "..     ...                                                ...   \n",
      "197  1,691                                          Shamshera   \n",
      "198  1,692                          Kisi Ka Bhai Kisi Ki Jaan   \n",
      "199  1,701                                             Ra.One   \n",
      "200  1,702                                             Bharat   \n",
      "201  1,716                                           Shehzada   \n",
      "\n",
      "         Director Name1 Director Name2       Director Name3 Duration  Year  \\\n",
      "0     Christopher Nolan           None                 None  152 min  2008   \n",
      "1    Joaquim Dos Santos    Kemp Powers   Justin K. Thompson  140 min  2023   \n",
      "2     Christopher Nolan           None                 None  148 min  2010   \n",
      "3         Peter Jackson           None                 None  178 min  2001   \n",
      "4         Peter Jackson           None                 None  179 min  2002   \n",
      "..                  ...            ...                  ...      ...   ...   \n",
      "197      Karan Malhotra           None                 None  178 min  2022   \n",
      "198        Farhad Samji           None                 None  145 min  2023   \n",
      "199       Anubhav Sinha           None                 None  156 min  2011   \n",
      "200     Ali Abbas Zafar           None                 None  150 min  2019   \n",
      "201        Rohit Dhawan           None                 None  142 min  2023   \n",
      "\n",
      "     Rating  Metascore  \n",
      "0       9.0       84.0  \n",
      "1       8.9       86.0  \n",
      "2       8.8       74.0  \n",
      "3       8.8       92.0  \n",
      "4       8.8       87.0  \n",
      "..      ...        ...  \n",
      "197     4.8        NaN  \n",
      "198     4.7        NaN  \n",
      "199     4.7       60.0  \n",
      "200     4.7        NaN  \n",
      "201     4.5        NaN  \n",
      "\n",
      "[202 rows x 9 columns]\n"
     ]
    }
   ],
   "source": [
    "# Display the data\n",
    "print(data)"
   ]
  },
  {
   "cell_type": "code",
   "execution_count": 15,
   "id": "bf033140",
   "metadata": {},
   "outputs": [],
   "source": [
    "# SQL query 3\n",
    "query = \"\"\"\n",
    "SELECT *\n",
    "FROM {table}\n",
    "WHERE Rating > 7\n",
    "ORDER BY Rating ASC;\n",
    "\"\"\".format(table=table_name)"
   ]
  },
  {
   "cell_type": "code",
   "execution_count": 16,
   "id": "2760a800",
   "metadata": {},
   "outputs": [],
   "source": [
    "# Retrieve data into a DataFrame\n",
    "data = pd.read_sql(query, conn)"
   ]
  },
  {
   "cell_type": "code",
   "execution_count": 17,
   "id": "3c920749",
   "metadata": {},
   "outputs": [
    {
     "name": "stdout",
     "output_type": "stream",
     "text": [
      "     SNO                                         Movie Name  \\\n",
      "0    433                                       Extraction 2   \n",
      "1    434                                Mission: Impossible   \n",
      "2    435                                       Man of Steel   \n",
      "3    436                                          The Mummy   \n",
      "4    437                                     Tropic Thunder   \n",
      "..   ...                                                ...   \n",
      "489    5  The Lord of the Rings: The Fellowship of the Ring   \n",
      "490    6              The Lord of the Rings: The Two Towers   \n",
      "491    3                Spider-Man: Across the Spider-Verse   \n",
      "492    1                                    The Dark Knight   \n",
      "493    2      The Lord of the Rings: The Return of the King   \n",
      "\n",
      "         Director Name1 Director Name2       Director Name3 Duration  Year  \\\n",
      "0          Sam Hargrave           None                 None  122 min  2023   \n",
      "1        Brian De Palma           None                 None  110 min  1996   \n",
      "2           Zack Snyder           None                 None  143 min  2013   \n",
      "3       Stephen Sommers           None                 None  124 min  1999   \n",
      "4           Ben Stiller           None                 None  107 min  2008   \n",
      "..                  ...            ...                  ...      ...   ...   \n",
      "489       Peter Jackson           None                 None  178 min  2001   \n",
      "490       Peter Jackson           None                 None  179 min  2002   \n",
      "491  Joaquim Dos Santos    Kemp Powers   Justin K. Thompson  140 min  2023   \n",
      "492   Christopher Nolan           None                 None  152 min  2008   \n",
      "493       Peter Jackson           None                 None  201 min  2003   \n",
      "\n",
      "     Rating  Metascore  \n",
      "0       7.1       57.0  \n",
      "1       7.1       59.0  \n",
      "2       7.1       55.0  \n",
      "3       7.1       48.0  \n",
      "4       7.1       71.0  \n",
      "..      ...        ...  \n",
      "489     8.8       92.0  \n",
      "490     8.8       87.0  \n",
      "491     8.9       86.0  \n",
      "492     9.0       84.0  \n",
      "493     9.0       94.0  \n",
      "\n",
      "[494 rows x 9 columns]\n"
     ]
    }
   ],
   "source": [
    "# Display the data\n",
    "print(data)"
   ]
  },
  {
   "cell_type": "code",
   "execution_count": 18,
   "id": "21ca5316",
   "metadata": {},
   "outputs": [],
   "source": [
    "# SQL query 4\n",
    "query = \"\"\"\n",
    "SELECT \"Movie Name\"\n",
    "FROM {table}\n",
    "ORDER BY \"Movie Name\" DESC;\n",
    "\"\"\".format(table=table_name)"
   ]
  },
  {
   "cell_type": "code",
   "execution_count": 19,
   "id": "3768c0d2",
   "metadata": {},
   "outputs": [],
   "source": [
    "# Retrieve data into a DataFrame\n",
    "data = pd.read_sql(query, conn)"
   ]
  },
  {
   "cell_type": "code",
   "execution_count": 20,
   "id": "ec493f87",
   "metadata": {},
   "outputs": [
    {
     "name": "stdout",
     "output_type": "stream",
     "text": [
      "                      Movie Name\n",
      "0                   Ölümlü Dünya\n",
      "1                       Æon Flux\n",
      "2        xXx: State of the Union\n",
      "3     xXx: Return of Xander Cage\n",
      "4                            xXx\n",
      "...                          ...\n",
      "1745                   12 Rounds\n",
      "1746                   10,000 BC\n",
      "1747             1 - Nenokkadine\n",
      "1748                         '71\n",
      "1749                   #Saraitda\n",
      "\n",
      "[1750 rows x 1 columns]\n"
     ]
    }
   ],
   "source": [
    "# Display the data\n",
    "print(data)"
   ]
  },
  {
   "cell_type": "code",
   "execution_count": 21,
   "id": "c6993934",
   "metadata": {},
   "outputs": [],
   "source": [
    "# SQL query 5\n",
    "query = \"\"\"\n",
    "SELECT \"Movie Name\", Rating\n",
    "FROM {table}\n",
    "WHERE \"Movie Name\" LIKE 'P%' AND Rating > 7;\n",
    "\"\"\".format(table=table_name)"
   ]
  },
  {
   "cell_type": "code",
   "execution_count": 22,
   "id": "ff7432ab",
   "metadata": {},
   "outputs": [],
   "source": [
    "# Retrieve data into a DataFrame\n",
    "data = pd.read_sql(query, conn)"
   ]
  },
  {
   "cell_type": "code",
   "execution_count": 23,
   "id": "b7af1910",
   "metadata": {},
   "outputs": [
    {
     "name": "stdout",
     "output_type": "stream",
     "text": [
      "                                           Movie Name  Rating\n",
      "0                                    Paan Singh Tomar     8.2\n",
      "1   Pirates of the Caribbean: The Curse of the Bla...     8.1\n",
      "2                             Per un pugno di dollari     7.9\n",
      "3                                            Predator     7.8\n",
      "4                                  Ponniyin Selvan: I     7.6\n",
      "5                           Pushpa: The Rise - Part 1     7.6\n",
      "6                                      Predestination     7.4\n",
      "7          Pirates of the Caribbean: Dead Man's Chest     7.3\n",
      "8                                        Patriots Day     7.3\n",
      "9                                         Point Break     7.2\n",
      "10                                               Prey     7.1\n",
      "11           Pirates of the Caribbean: At World's End     7.1\n",
      "12                                      Planet Terror     7.1\n",
      "13                                            Payback     7.1\n"
     ]
    }
   ],
   "source": [
    "# Display the data\n",
    "print(data)"
   ]
  },
  {
   "cell_type": "code",
   "execution_count": 24,
   "id": "8f19f7a6",
   "metadata": {},
   "outputs": [],
   "source": [
    "# Close the database connection\n",
    "conn.close()"
   ]
  },
  {
   "cell_type": "code",
   "execution_count": null,
   "id": "db9ba121",
   "metadata": {},
   "outputs": [],
   "source": []
  },
  {
   "cell_type": "markdown",
   "id": "d8232c2b",
   "metadata": {},
   "source": [
    "#Table 2 "
   ]
  },
  {
   "cell_type": "code",
   "execution_count": 25,
   "id": "aaca9858",
   "metadata": {},
   "outputs": [],
   "source": [
    "csv_file_path = 'C:\\\\Users\\\\Mohit Lahoti\\\\Downloads\\\\Compressed\\\\stars_name.csv'\n",
    "data = pd.read_csv(csv_file_path)"
   ]
  },
  {
   "cell_type": "code",
   "execution_count": 26,
   "id": "98baedd2",
   "metadata": {},
   "outputs": [
    {
     "name": "stdout",
     "output_type": "stream",
     "text": [
      "SQLite Database Path: C:\\Users\\Mohit Lahoti\\my_database.db\n"
     ]
    }
   ],
   "source": [
    "# Get the current working directory\n",
    "current_directory = os.getcwd()\n",
    "\n",
    "# Specify the SQLite database file name\n",
    "sqlite_db_filename = 'my_database.db'\n",
    "\n",
    "# Construct the full path to the SQLite database\n",
    "sqlite_db_path = os.path.join(current_directory, sqlite_db_filename)\n",
    "\n",
    "print(\"SQLite Database Path:\", sqlite_db_path)\n"
   ]
  },
  {
   "cell_type": "code",
   "execution_count": 27,
   "id": "0d512d88",
   "metadata": {},
   "outputs": [],
   "source": [
    "sqlite_db_path = 'path_to_your_sqlite_database.db'\n",
    "conn = sqlite3.connect(sqlite_db_path)"
   ]
  },
  {
   "cell_type": "code",
   "execution_count": 28,
   "id": "91a322ba",
   "metadata": {},
   "outputs": [
    {
     "data": {
      "text/plain": [
       "1751"
      ]
     },
     "execution_count": 28,
     "metadata": {},
     "output_type": "execute_result"
    }
   ],
   "source": [
    "table_name = 'Movie_Data_2'\n",
    "data.to_sql(table_name, conn, index=False, if_exists='replace')"
   ]
  },
  {
   "cell_type": "code",
   "execution_count": 29,
   "id": "82cd43bb",
   "metadata": {},
   "outputs": [
    {
     "name": "stdout",
     "output_type": "stream",
     "text": [
      "                                             Movie Name        Stars Name1  \\\n",
      "0                                       The Dark Knight     Christian Bale   \n",
      "1         The Lord of the Rings: The Return of the King        Elijah Wood   \n",
      "2                   Spider-Man: Across the Spider-Verse      Shameik Moore   \n",
      "3                                             Inception  Leonardo DiCaprio   \n",
      "4     The Lord of the Rings: The Fellowship of the Ring        Elijah Wood   \n",
      "...                                                 ...                ...   \n",
      "1746                                               Krym      Roman Kurtsyn   \n",
      "1747                                          Barb Wire    Pamela Anderson   \n",
      "1748              Spy Kids 4: All the Time in the World       Jessica Alba   \n",
      "1749                                              D-War         Jason Behr   \n",
      "1750                                               None     Christian Bale   \n",
      "\n",
      "                Stars Name2         Stars Name3         Stars Name4  \\\n",
      "0              Heath Ledger       Aaron Eckhart       Michael Caine   \n",
      "1           Viggo Mortensen        Ian McKellen       Orlando Bloom   \n",
      "2          Hailee Steinfeld   Brian Tyree Henry   Luna Lauren Velez   \n",
      "3      Joseph Gordon-Levitt         Elliot Page        Ken Watanabe   \n",
      "4              Ian McKellen       Orlando Bloom           Sean Bean   \n",
      "...                     ...                 ...                 ...   \n",
      "1746        Evgeniya Lapova       Pavel Kraynov      Pavel Trubiner   \n",
      "1747          Amir AboulEla   Adriana Alexander      David Andriole   \n",
      "1748           Jeremy Piven         Joel McHale     Rowan Blanchard   \n",
      "1749          Amanda Brooks      Robert Forster      Craig Robinson   \n",
      "1750                   None                None                None   \n",
      "\n",
      "          Votes     Genre1               Genre2                  Genre3  \\\n",
      "0     2,739,255     Action                Crime       Drama               \n",
      "1     1,898,117     Action            Adventure       Drama               \n",
      "2       182,431  Animation               Action   Adventure               \n",
      "3     2,430,810     Action            Adventure      Sci-Fi               \n",
      "4     1,926,549     Action            Adventure       Drama               \n",
      "...         ...        ...                  ...                     ...   \n",
      "1746     33,496     Action    Drama                                None   \n",
      "1747     30,451     Action   Sci-Fi                                None   \n",
      "1748     27,159     Action            Adventure      Comedy               \n",
      "1749     25,068     Action                Drama     Fantasy               \n",
      "1750       None       None                 None                    None   \n",
      "\n",
      "     Gross Collection  Popularity Certification  \n",
      "0            $534.86M         9.0            UA  \n",
      "1            $377.85M         9.0             U  \n",
      "2               *****         8.9             U  \n",
      "3            $292.58M         8.8            UA  \n",
      "4            $315.54M         8.8             U  \n",
      "...               ...         ...           ...  \n",
      "1746            *****         3.6          None  \n",
      "1747           $3.79M         3.5            UA  \n",
      "1748          $38.54M         3.5            PG  \n",
      "1749          $10.98M         3.5         PG-13  \n",
      "1750             None         NaN          None  \n",
      "\n",
      "[1751 rows x 12 columns]\n"
     ]
    }
   ],
   "source": [
    "table_name = 'Movie_Data_2'\n",
    "query = f\"SELECT * FROM {table_name};\"\n",
    "data = pd.read_sql(query, conn)\n",
    "\n",
    "print(data)"
   ]
  },
  {
   "cell_type": "code",
   "execution_count": 30,
   "id": "c1abf952",
   "metadata": {},
   "outputs": [],
   "source": [
    "# Retrieve data into a DataFrame\n",
    "data = pd.read_sql(query, conn)"
   ]
  },
  {
   "cell_type": "code",
   "execution_count": 31,
   "id": "26b8be3e",
   "metadata": {},
   "outputs": [
    {
     "name": "stdout",
     "output_type": "stream",
     "text": [
      "Index(['Movie Name', 'Stars Name1', 'Stars Name2', 'Stars Name3',\n",
      "       'Stars Name4', 'Votes', 'Genre1', 'Genre2', 'Genre3',\n",
      "       'Gross Collection', 'Popularity', 'Certification'],\n",
      "      dtype='object')\n"
     ]
    }
   ],
   "source": [
    "print(data.columns)"
   ]
  },
  {
   "cell_type": "code",
   "execution_count": 32,
   "id": "bf21e73c",
   "metadata": {},
   "outputs": [],
   "source": [
    "# SQL query 1\n",
    "query = \"\"\"\n",
    "SELECT \"Movie Name\", \"Stars Name1\", \"Stars Name2\", \"Stars Name3\", \"Stars Name4\"\n",
    "FROM {table}\n",
    "WHERE \"Stars Name1\" = 'Arnold Schwarzenegger'\n",
    "   OR \"Stars Name2\" = 'Arnold Schwarzenegger'\n",
    "   OR \"Stars Name3\" = 'Arnold Schwarzenegger'\n",
    "   OR \"Stars Name4\" = 'Arnold Schwarzenegger'\n",
    "ORDER BY \"Movie Name\" ASC;\n",
    "\"\"\".format(table=table_name)"
   ]
  },
  {
   "cell_type": "code",
   "execution_count": 33,
   "id": "d0e38998",
   "metadata": {},
   "outputs": [],
   "source": [
    "# Retrieve data into a DataFrame\n",
    "data = pd.read_sql(query, conn)"
   ]
  },
  {
   "cell_type": "code",
   "execution_count": 34,
   "id": "044b95cb",
   "metadata": {},
   "outputs": [
    {
     "name": "stdout",
     "output_type": "stream",
     "text": [
      "                            Movie Name            Stars Name1  \\\n",
      "0                       Batman & Robin  Arnold Schwarzenegger   \n",
      "1                    Collateral Damage  Arnold Schwarzenegger   \n",
      "2                             Commando  Arnold Schwarzenegger   \n",
      "3                  Conan the Barbarian  Arnold Schwarzenegger   \n",
      "4                  Conan the Destroyer  Arnold Schwarzenegger   \n",
      "5                          End of Days  Arnold Schwarzenegger   \n",
      "6                               Eraser  Arnold Schwarzenegger   \n",
      "7                     Kindergarten Cop  Arnold Schwarzenegger   \n",
      "8                     Last Action Hero  Arnold Schwarzenegger   \n",
      "9                             Predator  Arnold Schwarzenegger   \n",
      "10                            Raw Deal  Arnold Schwarzenegger   \n",
      "11                            Red Heat  Arnold Schwarzenegger   \n",
      "12                           Red Sonja  Arnold Schwarzenegger   \n",
      "13                            Sabotage  Arnold Schwarzenegger   \n",
      "14          Terminator 2: Judgment Day  Arnold Schwarzenegger   \n",
      "15  Terminator 3: Rise of the Machines  Arnold Schwarzenegger   \n",
      "16                  Terminator Genisys  Arnold Schwarzenegger   \n",
      "17                         The 6th Day  Arnold Schwarzenegger   \n",
      "18                      The Last Stand  Arnold Schwarzenegger   \n",
      "19                     The Running Man  Arnold Schwarzenegger   \n",
      "20                      The Terminator  Arnold Schwarzenegger   \n",
      "21                        Total Recall  Arnold Schwarzenegger   \n",
      "22                           True Lies  Arnold Schwarzenegger   \n",
      "\n",
      "               Stars Name2        Stars Name3        Stars Name4  \n",
      "0           George Clooney   \"Chris ODonnell\"        Uma Thurman  \n",
      "1           John Leguizamo     Francesca Neri       Elias Koteas  \n",
      "2           Rae Dawn Chong         Dan Hedaya       Vernon Wells  \n",
      "3         James Earl Jones      Max von Sydow    Sandahl Bergman  \n",
      "4              Grace Jones      \"Olivia dAbo\"   Wilt Chamberlain  \n",
      "5            Gabriel Byrne       Robin Tunney       Kevin Pollak  \n",
      "6         Vanessa Williams         James Caan       James Coburn  \n",
      "7      Penelope Ann Miller        Pamela Reed         Linda Hunt  \n",
      "8        F. Murray Abraham         Art Carney      Charles Dance  \n",
      "9            Carl Weathers   Kevin Peter Hall   Elpidia Carrillo  \n",
      "10         Kathryn Harrold      Sam Wanamaker        Paul Shenar  \n",
      "11             Jim Belushi        Peter Boyle        \"Ed ORoss\"]  \n",
      "12        Brigitte Nielsen    Sandahl Bergman      Paul L. Smith  \n",
      "13         Sam Worthington    Terrence Howard    Olivia Williams  \n",
      "14          Linda Hamilton     Edward Furlong     Robert Patrick  \n",
      "15              Nick Stahl    Kristanna Loken       Claire Danes  \n",
      "16            Jason Clarke      Emilia Clarke       Jai Courtney  \n",
      "17        Michael Rapaport       Tony Goldwyn     Michael Rooker  \n",
      "18         Forest Whitaker   Johnny Knoxville    Rodrigo Santoro  \n",
      "19   Maria Conchita Alonso       Yaphet Kotto          Jim Brown  \n",
      "20          Linda Hamilton      Michael Biehn      Paul Winfield  \n",
      "21            Sharon Stone   Michael Ironside     Rachel Ticotin  \n",
      "22        Jamie Lee Curtis         Tom Arnold        Bill Paxton  \n"
     ]
    }
   ],
   "source": [
    "# Display the data\n",
    "print(data)"
   ]
  },
  {
   "cell_type": "code",
   "execution_count": 35,
   "id": "5b07c4e4",
   "metadata": {},
   "outputs": [],
   "source": [
    "# SQL query 2\n",
    "query = \"\"\"\n",
    "SELECT *\n",
    "FROM {table}\n",
    "ORDER BY Votes DESC\n",
    "LIMIT 1;\n",
    "\"\"\".format(table=table_name)"
   ]
  },
  {
   "cell_type": "code",
   "execution_count": 36,
   "id": "517aa28d",
   "metadata": {},
   "outputs": [],
   "source": [
    "# Retrieve data into a DataFrame\n",
    "data = pd.read_sql(query, conn)"
   ]
  },
  {
   "cell_type": "code",
   "execution_count": 37,
   "id": "ba877b52",
   "metadata": {},
   "outputs": [
    {
     "name": "stdout",
     "output_type": "stream",
     "text": [
      "  Movie Name Stars Name1    Stars Name2      Stars Name3     Stars Name4  \\\n",
      "0    Lockout  Guy Pearce   Maggie Grace   Peter Stormare   Vincent Regan   \n",
      "\n",
      "    Votes  Genre1   Genre2                 Genre3 Gross Collection  \\\n",
      "0  99,906  Action   Sci-Fi   Thriller                      $14.33M   \n",
      "\n",
      "   Popularity Certification  \n",
      "0         6.0         PG-13  \n"
     ]
    }
   ],
   "source": [
    "# Display the data\n",
    "print(data)"
   ]
  },
  {
   "cell_type": "code",
   "execution_count": 38,
   "id": "fe11bf0c",
   "metadata": {},
   "outputs": [],
   "source": [
    "# SQL query 3\n",
    "query = \"\"\"\n",
    "SELECT \"Movie Name\", \"Gross Collection\"\n",
    "FROM {table}\n",
    "ORDER BY \"Gross Collection\" DESC;\n",
    "\"\"\".format(table=table_name)"
   ]
  },
  {
   "cell_type": "code",
   "execution_count": 39,
   "id": "32edb10d",
   "metadata": {},
   "outputs": [],
   "source": [
    "# Retrieve data into a DataFrame\n",
    "data = pd.read_sql(query, conn)"
   ]
  },
  {
   "cell_type": "code",
   "execution_count": 40,
   "id": "3b452c0f",
   "metadata": {},
   "outputs": [
    {
     "name": "stdout",
     "output_type": "stream",
     "text": [
      "                               Movie Name Gross Collection\n",
      "0     Spider-Man: Across the Spider-Verse            *****\n",
      "1                         Soorarai Pottru            *****\n",
      "2                                 Seppuku            *****\n",
      "3                              Sita Ramam            *****\n",
      "4                                  Kaithi            *****\n",
      "...                                   ...              ...\n",
      "1746            Knockin' on Heaven's Door           $0.00M\n",
      "1747                         Son of a Gun           $0.00M\n",
      "1748                        The Condemned           $0.00M\n",
      "1749                            Wild Card           $0.00M\n",
      "1750                                 None             None\n",
      "\n",
      "[1751 rows x 2 columns]\n"
     ]
    }
   ],
   "source": [
    "# Display the data\n",
    "print(data)"
   ]
  },
  {
   "cell_type": "code",
   "execution_count": 41,
   "id": "ed09bec9",
   "metadata": {},
   "outputs": [],
   "source": [
    "# SQL query 4\n",
    "query = \"\"\"\n",
    "SELECT \"Movie Name\", \"Gross Collection\"\n",
    "FROM {table}\n",
    "WHERE \"Stars Name1\" = 'Arnold Schwarzenegger'\n",
    "   OR \"Stars Name2\" = 'Arnold Schwarzenegger'\n",
    "   OR \"Stars Name3\" = 'Arnold Schwarzenegger'\n",
    "   OR \"Stars Name4\" = 'Arnold Schwarzenegger';\n",
    "\"\"\".format(table=table_name)"
   ]
  },
  {
   "cell_type": "code",
   "execution_count": 42,
   "id": "a542e24f",
   "metadata": {},
   "outputs": [],
   "source": [
    "# Retrieve data into a DataFrame\n",
    "data = pd.read_sql(query, conn)"
   ]
  },
  {
   "cell_type": "code",
   "execution_count": 43,
   "id": "ef4c379c",
   "metadata": {},
   "outputs": [
    {
     "name": "stdout",
     "output_type": "stream",
     "text": [
      "                            Movie Name Gross Collection\n",
      "0           Terminator 2: Judgment Day         $204.84M\n",
      "1                       The Terminator          $38.40M\n",
      "2                             Predator          $59.74M\n",
      "3                         Total Recall         $119.39M\n",
      "4                            True Lies         $146.28M\n",
      "5                  Conan the Barbarian          $39.57M\n",
      "6                             Commando          $35.10M\n",
      "7                      The Running Man          $38.12M\n",
      "8                     Last Action Hero          $50.02M\n",
      "9   Terminator 3: Rise of the Machines         $150.37M\n",
      "10                  Terminator Genisys          $89.76M\n",
      "11                      The Last Stand          $12.05M\n",
      "12                    Kindergarten Cop          $91.46M\n",
      "13                              Eraser         $101.30M\n",
      "14                            Red Heat          $34.99M\n",
      "15                 Conan the Destroyer          $31.04M\n",
      "16                         The 6th Day          $34.60M\n",
      "17                         End of Days          $66.89M\n",
      "18                            Sabotage          $10.51M\n",
      "19                            Raw Deal          $16.21M\n",
      "20                   Collateral Damage          $40.08M\n",
      "21                           Red Sonja           $6.95M\n",
      "22                      Batman & Robin         $107.33M\n"
     ]
    }
   ],
   "source": [
    "# Display the data\n",
    "print(data)"
   ]
  },
  {
   "cell_type": "code",
   "execution_count": 44,
   "id": "cb6866c0",
   "metadata": {},
   "outputs": [],
   "source": [
    "# SQL query\n",
    "query = \"\"\"\n",
    "SELECT *\n",
    "FROM {table}\n",
    "WHERE \"Genre1\" = 'Comedy' OR \"Genre2\" = 'Comedy' OR \"Genre3\" = 'Comedy'\n",
    "   OR \"Genre1\" = 'Action' OR \"Genre2\" = 'Action' OR \"Genre3\" = 'Action';\n",
    "\"\"\".format(table=table_name)"
   ]
  },
  {
   "cell_type": "code",
   "execution_count": 45,
   "id": "5f1f4268",
   "metadata": {},
   "outputs": [],
   "source": [
    "# Retrieve data into a DataFrame\n",
    "data = pd.read_sql(query, conn)"
   ]
  },
  {
   "cell_type": "code",
   "execution_count": 46,
   "id": "dff4e4ed",
   "metadata": {},
   "outputs": [
    {
     "name": "stdout",
     "output_type": "stream",
     "text": [
      "                                             Movie Name        Stars Name1  \\\n",
      "0                                       The Dark Knight     Christian Bale   \n",
      "1         The Lord of the Rings: The Return of the King        Elijah Wood   \n",
      "2                                             Inception  Leonardo DiCaprio   \n",
      "3     The Lord of the Rings: The Fellowship of the Ring        Elijah Wood   \n",
      "4                 The Lord of the Rings: The Two Towers        Elijah Wood   \n",
      "...                                                 ...                ...   \n",
      "1672                        Mortal Kombat: Annihilation         Robin Shou   \n",
      "1673                                               Krym      Roman Kurtsyn   \n",
      "1674                                          Barb Wire    Pamela Anderson   \n",
      "1675              Spy Kids 4: All the Time in the World       Jessica Alba   \n",
      "1676                                              D-War         Jason Behr   \n",
      "\n",
      "                Stars Name2         Stars Name3       Stars Name4      Votes  \\\n",
      "0              Heath Ledger       Aaron Eckhart     Michael Caine  2,739,255   \n",
      "1           Viggo Mortensen        Ian McKellen     Orlando Bloom  1,898,117   \n",
      "2      Joseph Gordon-Levitt         Elliot Page      Ken Watanabe  2,430,810   \n",
      "3              Ian McKellen       Orlando Bloom         Sean Bean  1,926,549   \n",
      "4              Ian McKellen     Viggo Mortensen     Orlando Bloom  1,712,970   \n",
      "...                     ...                 ...               ...        ...   \n",
      "1672            Talisa Soto         James Remar       Sandra Hess     56,693   \n",
      "1673        Evgeniya Lapova       Pavel Kraynov    Pavel Trubiner     33,496   \n",
      "1674          Amir AboulEla   Adriana Alexander    David Andriole     30,451   \n",
      "1675           Jeremy Piven         Joel McHale   Rowan Blanchard     27,159   \n",
      "1676          Amanda Brooks      Robert Forster    Craig Robinson     25,068   \n",
      "\n",
      "      Genre1               Genre2                Genre3 Gross Collection  \\\n",
      "0     Action                Crime     Drama                     $534.86M   \n",
      "1     Action            Adventure     Drama                     $377.85M   \n",
      "2     Action            Adventure    Sci-Fi                     $292.58M   \n",
      "3     Action            Adventure     Drama                     $315.54M   \n",
      "4     Action            Adventure     Drama                     $342.55M   \n",
      "...      ...                  ...                   ...              ...   \n",
      "1672  Action            Adventure   Fantasy                      $35.93M   \n",
      "1673  Action    Drama                              None            *****   \n",
      "1674  Action   Sci-Fi                              None           $3.79M   \n",
      "1675  Action            Adventure    Comedy                      $38.54M   \n",
      "1676  Action                Drama   Fantasy                      $10.98M   \n",
      "\n",
      "      Popularity Certification  \n",
      "0            9.0            UA  \n",
      "1            9.0             U  \n",
      "2            8.8            UA  \n",
      "3            8.8             U  \n",
      "4            8.8            UA  \n",
      "...          ...           ...  \n",
      "1672         3.6            UA  \n",
      "1673         3.6          None  \n",
      "1674         3.5            UA  \n",
      "1675         3.5            PG  \n",
      "1676         3.5         PG-13  \n",
      "\n",
      "[1677 rows x 12 columns]\n"
     ]
    }
   ],
   "source": [
    "# Display the data\n",
    "print(data)"
   ]
  },
  {
   "cell_type": "code",
   "execution_count": 47,
   "id": "0429b06b",
   "metadata": {},
   "outputs": [],
   "source": [
    "# Close the database connection\n",
    "conn.close()"
   ]
  },
  {
   "cell_type": "code",
   "execution_count": null,
   "id": "2ee575fe",
   "metadata": {},
   "outputs": [],
   "source": []
  },
  {
   "cell_type": "markdown",
   "id": "6de9d982",
   "metadata": {},
   "source": [
    "# subquerys"
   ]
  },
  {
   "cell_type": "code",
   "execution_count": 48,
   "id": "bcd5fc78",
   "metadata": {},
   "outputs": [],
   "source": [
    "# Get the current working directory\n",
    "current_directory = os.getcwd()"
   ]
  },
  {
   "cell_type": "code",
   "execution_count": 49,
   "id": "9f62d855",
   "metadata": {},
   "outputs": [],
   "source": [
    "# Specify the SQLite database file name\n",
    "sqlite_db_filename = 'my_database.db'"
   ]
  },
  {
   "cell_type": "code",
   "execution_count": 50,
   "id": "7ad24fee",
   "metadata": {},
   "outputs": [],
   "source": [
    "# Construct the full path to the SQLite database\n",
    "sqlite_db_path = os.path.join(current_directory, sqlite_db_filename)"
   ]
  },
  {
   "cell_type": "code",
   "execution_count": 51,
   "id": "e5561a9b",
   "metadata": {},
   "outputs": [],
   "source": [
    "# Connect to the database     \n",
    "sqlite_db_path = 'path_to_your_sqlite_database.db'\n",
    "conn = sqlite3.connect(sqlite_db_path)"
   ]
  },
  {
   "cell_type": "code",
   "execution_count": 52,
   "id": "293564d1",
   "metadata": {},
   "outputs": [],
   "source": [
    "# Define table names\n",
    "table1_name = 'Movie_Data_1'\n",
    "table2_name = 'Movie_Data_2'"
   ]
  },
  {
   "cell_type": "code",
   "execution_count": 53,
   "id": "646f8e47",
   "metadata": {},
   "outputs": [],
   "source": [
    "#SQLSubquery 1\n",
    "# SQL subquery to retrieve all details from both tables where movie names are the same\n",
    "query = \"\"\"\n",
    "SELECT m1.*, m2.*\n",
    "FROM Movie_Data_1 m1\n",
    "INNER JOIN Movie_Data_2 m2 ON m1.\"Movie Name\" = m2.\"Movie Name\";\n",
    "\"\"\".format(table=table_name)"
   ]
  },
  {
   "cell_type": "code",
   "execution_count": 55,
   "id": "8a6d4efb",
   "metadata": {},
   "outputs": [],
   "source": [
    "# Retrieve data into a DataFrame\n",
    "data = pd.read_sql(query, conn)"
   ]
  },
  {
   "cell_type": "code",
   "execution_count": 56,
   "id": "e5acc890",
   "metadata": {},
   "outputs": [
    {
     "name": "stdout",
     "output_type": "stream",
     "text": [
      "        SNO                                         Movie Name  \\\n",
      "0         1                                    The Dark Knight   \n",
      "1         2      The Lord of the Rings: The Return of the King   \n",
      "2         3                Spider-Man: Across the Spider-Verse   \n",
      "3         4                                          Inception   \n",
      "4         5  The Lord of the Rings: The Fellowship of the Ring   \n",
      "...     ...                                                ...   \n",
      "1804  1,745                        Mortal Kombat: Annihilation   \n",
      "1805  1,746                                               Krym   \n",
      "1806  1,747                                          Barb Wire   \n",
      "1807  1,748              Spy Kids 4: All the Time in the World   \n",
      "1808  1,749                                              D-War   \n",
      "\n",
      "          Director Name1 Director Name2       Director Name3 Duration  \\\n",
      "0      Christopher Nolan           None                 None  152 min   \n",
      "1          Peter Jackson           None                 None  201 min   \n",
      "2     Joaquim Dos Santos    Kemp Powers   Justin K. Thompson  140 min   \n",
      "3      Christopher Nolan           None                 None  148 min   \n",
      "4          Peter Jackson           None                 None  178 min   \n",
      "...                  ...            ...                  ...      ...   \n",
      "1804    John R. Leonetti           None                 None   95 min   \n",
      "1805     Aleksey Pimanov           None                 None   99 min   \n",
      "1806         David Hogan           None                 None   98 min   \n",
      "1807    Robert Rodriguez           None                 None   89 min   \n",
      "1808      Hyung-rae Shim           None                 None  107 min   \n",
      "\n",
      "          Year  Rating  Metascore  \\\n",
      "0         2008     9.0       84.0   \n",
      "1         2003     9.0       94.0   \n",
      "2         2023     8.9       86.0   \n",
      "3         2010     8.8       74.0   \n",
      "4         2001     8.8       92.0   \n",
      "...        ...     ...        ...   \n",
      "1804      1997     3.6       11.0   \n",
      "1805  I) (2017     3.6        NaN   \n",
      "1806      1996     3.5       40.0   \n",
      "1807      2011     3.5       37.0   \n",
      "1808      2007     3.5       33.0   \n",
      "\n",
      "                                             Movie Name  ...  \\\n",
      "0                                       The Dark Knight  ...   \n",
      "1         The Lord of the Rings: The Return of the King  ...   \n",
      "2                   Spider-Man: Across the Spider-Verse  ...   \n",
      "3                                             Inception  ...   \n",
      "4     The Lord of the Rings: The Fellowship of the Ring  ...   \n",
      "...                                                 ...  ...   \n",
      "1804                        Mortal Kombat: Annihilation  ...   \n",
      "1805                                               Krym  ...   \n",
      "1806                                          Barb Wire  ...   \n",
      "1807              Spy Kids 4: All the Time in the World  ...   \n",
      "1808                                              D-War  ...   \n",
      "\n",
      "                Stars Name2         Stars Name3         Stars Name4  \\\n",
      "0              Heath Ledger       Aaron Eckhart       Michael Caine   \n",
      "1           Viggo Mortensen        Ian McKellen       Orlando Bloom   \n",
      "2          Hailee Steinfeld   Brian Tyree Henry   Luna Lauren Velez   \n",
      "3      Joseph Gordon-Levitt         Elliot Page        Ken Watanabe   \n",
      "4              Ian McKellen       Orlando Bloom           Sean Bean   \n",
      "...                     ...                 ...                 ...   \n",
      "1804            Talisa Soto         James Remar         Sandra Hess   \n",
      "1805        Evgeniya Lapova       Pavel Kraynov      Pavel Trubiner   \n",
      "1806          Amir AboulEla   Adriana Alexander      David Andriole   \n",
      "1807           Jeremy Piven         Joel McHale     Rowan Blanchard   \n",
      "1808          Amanda Brooks      Robert Forster      Craig Robinson   \n",
      "\n",
      "          Votes     Genre1               Genre2                  Genre3  \\\n",
      "0     2,739,255     Action                Crime       Drama               \n",
      "1     1,898,117     Action            Adventure       Drama               \n",
      "2       182,431  Animation               Action   Adventure               \n",
      "3     2,430,810     Action            Adventure      Sci-Fi               \n",
      "4     1,926,549     Action            Adventure       Drama               \n",
      "...         ...        ...                  ...                     ...   \n",
      "1804     56,693     Action            Adventure     Fantasy               \n",
      "1805     33,496     Action    Drama                                None   \n",
      "1806     30,451     Action   Sci-Fi                                None   \n",
      "1807     27,159     Action            Adventure      Comedy               \n",
      "1808     25,068     Action                Drama     Fantasy               \n",
      "\n",
      "     Gross Collection Popularity  Certification  \n",
      "0            $534.86M        9.0             UA  \n",
      "1            $377.85M        9.0              U  \n",
      "2               *****        8.9              U  \n",
      "3            $292.58M        8.8             UA  \n",
      "4            $315.54M        8.8              U  \n",
      "...               ...        ...            ...  \n",
      "1804          $35.93M        3.6             UA  \n",
      "1805            *****        3.6           None  \n",
      "1806           $3.79M        3.5             UA  \n",
      "1807          $38.54M        3.5             PG  \n",
      "1808          $10.98M        3.5          PG-13  \n",
      "\n",
      "[1809 rows x 21 columns]\n"
     ]
    }
   ],
   "source": [
    "# Display the data\n",
    "print(data)"
   ]
  },
  {
   "cell_type": "code",
   "execution_count": 57,
   "id": "73d6a702",
   "metadata": {},
   "outputs": [],
   "source": [
    "#subquery2\n",
    "# Query for Movie_Data_1\n",
    "query_1 = \"\"\"\n",
    "SELECT\n",
    "    \"Movie Name\",\n",
    "    \"Director Name1\",\n",
    "    \"Rating\",\n",
    "    \"Gross Collection\"\n",
    "FROM\n",
    "    Movie_Data_1\n",
    "WHERE\n",
    "    \"Genre1\" = 'action' OR\n",
    "    \"Genre2\" = 'action' OR\n",
    "    \"Genre3\" = 'action';\n",
    "\"\"\"\n",
    "\n",
    "# Query for Movie_Data_2\n",
    "query_2 = \"\"\"\n",
    "SELECT\n",
    "    \"Movie Name\",\n",
    "    NULL AS \"Director Name1\",\n",
    "    NULL AS \"Rating\",\n",
    "    \"Gross Collection\"\n",
    "FROM\n",
    "    Movie_Data_2\n",
    "WHERE\n",
    "    \"Genre1\" = 'action' OR\n",
    "    \"Genre2\" = 'action' OR\n",
    "    \"Genre3\" = 'action';\n",
    "\"\"\""
   ]
  },
  {
   "cell_type": "code",
   "execution_count": 58,
   "id": "c68502bc",
   "metadata": {},
   "outputs": [],
   "source": [
    "# Retrieve data into a DataFrame\n",
    "data = pd.read_sql(query, conn)"
   ]
  },
  {
   "cell_type": "code",
   "execution_count": 59,
   "id": "7b3595ee",
   "metadata": {
    "collapsed": true
   },
   "outputs": [
    {
     "name": "stdout",
     "output_type": "stream",
     "text": [
      "        SNO                                         Movie Name  \\\n",
      "0         1                                    The Dark Knight   \n",
      "1         2      The Lord of the Rings: The Return of the King   \n",
      "2         3                Spider-Man: Across the Spider-Verse   \n",
      "3         4                                          Inception   \n",
      "4         5  The Lord of the Rings: The Fellowship of the Ring   \n",
      "...     ...                                                ...   \n",
      "1804  1,745                        Mortal Kombat: Annihilation   \n",
      "1805  1,746                                               Krym   \n",
      "1806  1,747                                          Barb Wire   \n",
      "1807  1,748              Spy Kids 4: All the Time in the World   \n",
      "1808  1,749                                              D-War   \n",
      "\n",
      "          Director Name1 Director Name2       Director Name3 Duration  \\\n",
      "0      Christopher Nolan           None                 None  152 min   \n",
      "1          Peter Jackson           None                 None  201 min   \n",
      "2     Joaquim Dos Santos    Kemp Powers   Justin K. Thompson  140 min   \n",
      "3      Christopher Nolan           None                 None  148 min   \n",
      "4          Peter Jackson           None                 None  178 min   \n",
      "...                  ...            ...                  ...      ...   \n",
      "1804    John R. Leonetti           None                 None   95 min   \n",
      "1805     Aleksey Pimanov           None                 None   99 min   \n",
      "1806         David Hogan           None                 None   98 min   \n",
      "1807    Robert Rodriguez           None                 None   89 min   \n",
      "1808      Hyung-rae Shim           None                 None  107 min   \n",
      "\n",
      "          Year  Rating  Metascore  \\\n",
      "0         2008     9.0       84.0   \n",
      "1         2003     9.0       94.0   \n",
      "2         2023     8.9       86.0   \n",
      "3         2010     8.8       74.0   \n",
      "4         2001     8.8       92.0   \n",
      "...        ...     ...        ...   \n",
      "1804      1997     3.6       11.0   \n",
      "1805  I) (2017     3.6        NaN   \n",
      "1806      1996     3.5       40.0   \n",
      "1807      2011     3.5       37.0   \n",
      "1808      2007     3.5       33.0   \n",
      "\n",
      "                                             Movie Name  ...  \\\n",
      "0                                       The Dark Knight  ...   \n",
      "1         The Lord of the Rings: The Return of the King  ...   \n",
      "2                   Spider-Man: Across the Spider-Verse  ...   \n",
      "3                                             Inception  ...   \n",
      "4     The Lord of the Rings: The Fellowship of the Ring  ...   \n",
      "...                                                 ...  ...   \n",
      "1804                        Mortal Kombat: Annihilation  ...   \n",
      "1805                                               Krym  ...   \n",
      "1806                                          Barb Wire  ...   \n",
      "1807              Spy Kids 4: All the Time in the World  ...   \n",
      "1808                                              D-War  ...   \n",
      "\n",
      "                Stars Name2         Stars Name3         Stars Name4  \\\n",
      "0              Heath Ledger       Aaron Eckhart       Michael Caine   \n",
      "1           Viggo Mortensen        Ian McKellen       Orlando Bloom   \n",
      "2          Hailee Steinfeld   Brian Tyree Henry   Luna Lauren Velez   \n",
      "3      Joseph Gordon-Levitt         Elliot Page        Ken Watanabe   \n",
      "4              Ian McKellen       Orlando Bloom           Sean Bean   \n",
      "...                     ...                 ...                 ...   \n",
      "1804            Talisa Soto         James Remar         Sandra Hess   \n",
      "1805        Evgeniya Lapova       Pavel Kraynov      Pavel Trubiner   \n",
      "1806          Amir AboulEla   Adriana Alexander      David Andriole   \n",
      "1807           Jeremy Piven         Joel McHale     Rowan Blanchard   \n",
      "1808          Amanda Brooks      Robert Forster      Craig Robinson   \n",
      "\n",
      "          Votes     Genre1               Genre2                  Genre3  \\\n",
      "0     2,739,255     Action                Crime       Drama               \n",
      "1     1,898,117     Action            Adventure       Drama               \n",
      "2       182,431  Animation               Action   Adventure               \n",
      "3     2,430,810     Action            Adventure      Sci-Fi               \n",
      "4     1,926,549     Action            Adventure       Drama               \n",
      "...         ...        ...                  ...                     ...   \n",
      "1804     56,693     Action            Adventure     Fantasy               \n",
      "1805     33,496     Action    Drama                                None   \n",
      "1806     30,451     Action   Sci-Fi                                None   \n",
      "1807     27,159     Action            Adventure      Comedy               \n",
      "1808     25,068     Action                Drama     Fantasy               \n",
      "\n",
      "     Gross Collection Popularity  Certification  \n",
      "0            $534.86M        9.0             UA  \n",
      "1            $377.85M        9.0              U  \n",
      "2               *****        8.9              U  \n",
      "3            $292.58M        8.8             UA  \n",
      "4            $315.54M        8.8              U  \n",
      "...               ...        ...            ...  \n",
      "1804          $35.93M        3.6             UA  \n",
      "1805            *****        3.6           None  \n",
      "1806           $3.79M        3.5             UA  \n",
      "1807          $38.54M        3.5             PG  \n",
      "1808          $10.98M        3.5          PG-13  \n",
      "\n",
      "[1809 rows x 21 columns]\n"
     ]
    }
   ],
   "source": [
    "print(data)"
   ]
  },
  {
   "cell_type": "code",
   "execution_count": 70,
   "id": "3df89cf0",
   "metadata": {},
   "outputs": [
    {
     "name": "stdout",
     "output_type": "stream",
     "text": [
      "Movies with the highest gross collection:\n",
      "        SNO                           Movie Name      Director Name1  \\\n",
      "2         3  Spider-Man: Across the Spider-Verse  Joaquim Dos Santos   \n",
      "8         9                      Soorarai Pottru       Sudha Kongara   \n",
      "12       13                              Seppuku    Masaki Kobayashi   \n",
      "13       14                           Sita Ramam    Hanu Raghavapudi   \n",
      "23       24                               Kaithi    Lokesh Kanagaraj   \n",
      "...     ...                                  ...                 ...   \n",
      "1773  1,716                             Shehzada        Rohit Dhawan   \n",
      "1775  1,718                                 Cell        Tod Williams   \n",
      "1788  1,730                         Coolie No. 1        David Dhawan   \n",
      "1794  1,736                 Escape Plan 2: Hades    Steven C. Miller   \n",
      "1805  1,746                                 Krym     Aleksey Pimanov   \n",
      "\n",
      "     Director Name2       Director Name3 Duration      Year  Rating  \\\n",
      "2       Kemp Powers   Justin K. Thompson  140 min      2023     8.9   \n",
      "8              None                 None  153 min      2020     8.7   \n",
      "12             None                 None  133 min      1962     8.6   \n",
      "13             None                 None  163 min      2022     8.6   \n",
      "23             None                 None  145 min      2019     8.4   \n",
      "...             ...                  ...      ...       ...     ...   \n",
      "1773           None                 None  142 min      2023     4.5   \n",
      "1775           None                 None   98 min  I) (2016     4.4   \n",
      "1788           None                 None  134 min      2020     4.2   \n",
      "1794           None                 None   96 min      2018     3.9   \n",
      "1805           None                 None   99 min  I) (2017     3.6   \n",
      "\n",
      "      Metascore                           Movie Name  ...         Stars Name2  \\\n",
      "2          86.0  Spider-Man: Across the Spider-Verse  ...    Hailee Steinfeld   \n",
      "8           NaN                      Soorarai Pottru  ...        Paresh Rawal   \n",
      "12         85.0                              Seppuku  ...      Akira Ishihama   \n",
      "13          NaN                           Sita Ramam  ...       Mrunal Thakur   \n",
      "23          NaN                               Kaithi  ...              Narain   \n",
      "...         ...                                  ...  ...                 ...   \n",
      "1773        NaN                             Shehzada  ...         Kriti Sanon   \n",
      "1775       38.0                                 Cell  ...   Samuel L. Jackson   \n",
      "1788        NaN                         Coolie No. 1  ...       Sara Ali Khan   \n",
      "1794        NaN                 Escape Plan 2: Hades  ...       Dave Bautista   \n",
      "1805        NaN                                 Krym  ...     Evgeniya Lapova   \n",
      "\n",
      "             Stars Name3         Stars Name4    Votes     Genre1  \\\n",
      "2      Brian Tyree Henry   Luna Lauren Velez  182,431  Animation   \n",
      "8      Aparna Balamurali             Urvashi  119,991     Action   \n",
      "12        Shima Iwashita       Tetsurô Tanba   62,029     Action   \n",
      "13     Rashmika Mandanna             Sumanth   61,367     Action   \n",
      "23             Arjun Das       George Maryan   36,741     Action   \n",
      "...                  ...                 ...      ...        ...   \n",
      "1773        Paresh Rawal     Manisha Koirala   30,262     Action   \n",
      "1775    Isabelle Fuhrman       Clark Sarullo   29,294     Action   \n",
      "1788        Paresh Rawal      Jaaved Jaaferi   73,920     Action   \n",
      "1794      Xiaoming Huang      Jesse Metcalfe   33,669     Action   \n",
      "1805       Pavel Kraynov      Pavel Trubiner   33,496     Action   \n",
      "\n",
      "                  Genre2                  Genre3 Gross Collection Popularity  \\\n",
      "2                 Action   Adventure                        *****        8.9   \n",
      "8      Drama                                None            *****        8.7   \n",
      "12                 Drama     Mystery                        *****        8.6   \n",
      "13                 Drama     Mystery                        *****        8.6   \n",
      "23             Adventure       Crime                        *****        8.4   \n",
      "...                  ...                     ...              ...        ...   \n",
      "1773              Comedy       Drama                        *****        4.5   \n",
      "1775           Adventure      Horror                        *****        4.4   \n",
      "1788              Comedy     Romance                        *****        4.2   \n",
      "1794               Crime     Mystery                        *****        3.9   \n",
      "1805   Drama                                None            *****        3.6   \n",
      "\n",
      "      Certification  \n",
      "2                 U  \n",
      "8                 U  \n",
      "12             None  \n",
      "13                U  \n",
      "23               UA  \n",
      "...             ...  \n",
      "1773             UA  \n",
      "1775              R  \n",
      "1788             UA  \n",
      "1794              A  \n",
      "1805           None  \n",
      "\n",
      "[288 rows x 21 columns]\n"
     ]
    }
   ],
   "source": [
    "#subquery 3\n",
    "# Find the maximum gross collection value from both tables\n",
    "max_gross = data[\"Gross Collection\"].max()\n",
    "\n",
    "# Filter the DataFrame to get rows with the highest gross collection\n",
    "highest_gross_movies = data[data[\"Gross Collection\"] == max_gross]\n",
    "\n",
    "# Display the details of movies with the highest gross collection\n",
    "print(\"Movies with the highest gross collection:\")\n",
    "print(highest_gross_movies)"
   ]
  },
  {
   "cell_type": "code",
   "execution_count": 71,
   "id": "26cd47ab",
   "metadata": {},
   "outputs": [
    {
     "name": "stdout",
     "output_type": "stream",
     "text": [
      "Movies with the highest rating:\n",
      "  SNO                                     Movie Name     Director Name1  \\\n",
      "0   1                                The Dark Knight  Christopher Nolan   \n",
      "1   2  The Lord of the Rings: The Return of the King      Peter Jackson   \n",
      "\n",
      "  Director Name2 Director Name3 Duration  Year  Rating  Metascore  \\\n",
      "0           None           None  152 min  2008     9.0       84.0   \n",
      "1           None           None  201 min  2003     9.0       94.0   \n",
      "\n",
      "                                      Movie Name  ...       Stars Name2  \\\n",
      "0                                The Dark Knight  ...      Heath Ledger   \n",
      "1  The Lord of the Rings: The Return of the King  ...   Viggo Mortensen   \n",
      "\n",
      "      Stars Name3     Stars Name4      Votes  Genre1      Genre2  \\\n",
      "0   Aaron Eckhart   Michael Caine  2,739,255  Action       Crime   \n",
      "1    Ian McKellen   Orlando Bloom  1,898,117  Action   Adventure   \n",
      "\n",
      "               Genre3 Gross Collection Popularity  Certification  \n",
      "0   Drama                     $534.86M        9.0             UA  \n",
      "1   Drama                     $377.85M        9.0              U  \n",
      "\n",
      "[2 rows x 21 columns]\n"
     ]
    }
   ],
   "source": [
    "#subquery4\n",
    "# Find the maximum rating value from both tables\n",
    "max_rating = data[\"Rating\"].max()\n",
    "\n",
    "# Filter the DataFrame to get rows with the highest rating\n",
    "highest_rated_movies = data[data[\"Rating\"] == max_rating]\n",
    "\n",
    "# Display the details of movies with the highest rating\n",
    "print(\"Movies with the highest rating:\")\n",
    "print(highest_rated_movies)\n"
   ]
  },
  {
   "cell_type": "code",
   "execution_count": 72,
   "id": "572930e2",
   "metadata": {},
   "outputs": [
    {
     "name": "stdout",
     "output_type": "stream",
     "text": [
      "Movies with the lowest gross collection and lowest rating:\n",
      "     SNO                             Movie Name    Director Name1  \\\n",
      "0    164              Knockin' on Heaven's Door       Thomas Jahn   \n",
      "1    993                           Son of a Gun      Julius Avery   \n",
      "2  1,312                          The Condemned       Scott Wiper   \n",
      "3  1,508                              Wild Card        Simon West   \n",
      "4  1,747                              Barb Wire       David Hogan   \n",
      "5  1,748  Spy Kids 4: All the Time in the World  Robert Rodriguez   \n",
      "6  1,749                                  D-War    Hyung-rae Shim   \n",
      "\n",
      "  Director Name2 Director Name3 Duration  Year  Rating  Metascore  \\\n",
      "0           None           None   87 min  1997     7.8        NaN   \n",
      "1           None           None  108 min  2014     6.4       49.0   \n",
      "2           None           None  114 min  2007     6.0       23.0   \n",
      "3           None           None   92 min  2015     5.6       40.0   \n",
      "4           None           None   98 min  1996     3.5       40.0   \n",
      "5           None           None   89 min  2011     3.5       37.0   \n",
      "6           None           None  107 min  2007     3.5       33.0   \n",
      "\n",
      "                              Movie Name  ...         Stars Name2  \\\n",
      "0              Knockin' on Heaven's Door  ...   Jan Josef Liefers   \n",
      "1                           Son of a Gun  ...    Brenton Thwaites   \n",
      "2                          The Condemned  ...        Vinnie Jones   \n",
      "3                              Wild Card  ...    Michael Angarano   \n",
      "4                              Barb Wire  ...       Amir AboulEla   \n",
      "5  Spy Kids 4: All the Time in the World  ...        Jeremy Piven   \n",
      "6                                  D-War  ...       Amanda Brooks   \n",
      "\n",
      "            Stars Name3         Stars Name4   Votes  Genre1  \\\n",
      "0   Thierry van Werveke    Moritz Bleibtreu  32,302  Action   \n",
      "1       Alicia Vikander   Brendan Kerkvliet  28,937  Action   \n",
      "2          Nathan Jones      Robert Mammone  53,579  Action   \n",
      "3        Dominik Garcia    Milo Ventimiglia  58,065  Action   \n",
      "4     Adriana Alexander      David Andriole  30,451  Action   \n",
      "5           Joel McHale     Rowan Blanchard  27,159  Action   \n",
      "6        Robert Forster      Craig Robinson  25,068  Action   \n",
      "\n",
      "                Genre2                 Genre3 Gross Collection Popularity  \\\n",
      "0                Crime     Comedy                       $0.00M        7.8   \n",
      "1                Crime      Drama                       $0.00M        6.4   \n",
      "2                Crime   Thriller                       $0.00M        6.0   \n",
      "3                Crime      Drama                       $0.00M        5.6   \n",
      "4   Sci-Fi                               None           $3.79M        3.5   \n",
      "5            Adventure     Comedy                      $38.54M        3.5   \n",
      "6                Drama    Fantasy                      $10.98M        3.5   \n",
      "\n",
      "   Certification  \n",
      "0           None  \n",
      "1              R  \n",
      "2              R  \n",
      "3              R  \n",
      "4             UA  \n",
      "5             PG  \n",
      "6          PG-13  \n",
      "\n",
      "[7 rows x 21 columns]\n"
     ]
    }
   ],
   "source": [
    "#subquery5\n",
    "# Find the minimum gross collection value from both tables\n",
    "min_gross = data[\"Gross Collection\"].min()\n",
    "\n",
    "# Filter the DataFrame to get rows with the lowest gross collection\n",
    "lowest_gross_movies = data[data[\"Gross Collection\"] == min_gross]\n",
    "\n",
    "# Find the minimum rating value from both tables\n",
    "min_rating = data[\"Rating\"].min()\n",
    "\n",
    "# Filter the DataFrame to get rows with the lowest rating\n",
    "lowest_rated_movies = data[data[\"Rating\"] == min_rating]\n",
    "\n",
    "# Combine the two filtered DataFrames to get movies with both lowest gross collection and lowest rating\n",
    "lowest_gross_and_rated_movies = pd.concat([lowest_gross_movies, lowest_rated_movies], ignore_index=True)\n",
    "\n",
    "# Display the details of movies with the lowest gross collection and lowest rating\n",
    "print(\"Movies with the lowest gross collection and lowest rating:\")\n",
    "print(lowest_gross_and_rated_movies)\n"
   ]
  },
  {
   "cell_type": "code",
   "execution_count": 73,
   "id": "878ec04a",
   "metadata": {},
   "outputs": [],
   "source": [
    "# Close the database connection\n",
    "conn.close()"
   ]
  },
  {
   "cell_type": "code",
   "execution_count": null,
   "id": "cab42695",
   "metadata": {},
   "outputs": [],
   "source": []
  }
 ],
 "metadata": {
  "kernelspec": {
   "display_name": "Python 3 (ipykernel)",
   "language": "python",
   "name": "python3"
  },
  "language_info": {
   "codemirror_mode": {
    "name": "ipython",
    "version": 3
   },
   "file_extension": ".py",
   "mimetype": "text/x-python",
   "name": "python",
   "nbconvert_exporter": "python",
   "pygments_lexer": "ipython3",
   "version": "3.9.12"
  }
 },
 "nbformat": 4,
 "nbformat_minor": 5
}
